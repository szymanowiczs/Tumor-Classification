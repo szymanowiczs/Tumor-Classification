{
 "cells": [
  {
   "cell_type": "code",
   "execution_count": 17,
   "metadata": {},
   "outputs": [],
   "source": [
    "import pandas as pd\n",
    "import numpy as np\n",
    "import tensorflow as tf\n",
    "import matplotlib.pyplot as plt "
   ]
  },
  {
   "cell_type": "code",
   "execution_count": 3,
   "metadata": {},
   "outputs": [],
   "source": [
    "df = pd.read_csv('Exercise1 - data.csv', header=None)"
   ]
  },
  {
   "cell_type": "code",
   "execution_count": 4,
   "metadata": {},
   "outputs": [],
   "source": [
    "# Convert malignant and benign to numerical values: Malilgnant to 1 and Benign to 0\n",
    "df[1] = df[1].map({'M':1, 'B':0})"
   ]
  },
  {
   "cell_type": "code",
   "execution_count": 5,
   "metadata": {},
   "outputs": [],
   "source": [
    "# Randomly choose 80% of the dataset for training, use the rest for testing\n",
    "train_dataset = df.sample(frac=0.8, random_state=1)\n",
    "test_dataset = df.drop(train_dataset.index)"
   ]
  },
  {
   "cell_type": "code",
   "execution_count": 6,
   "metadata": {},
   "outputs": [],
   "source": [
    "# Generates descriptive statistics that summarize the central tendency, \n",
    "# dispersion and shape of a dataset's distribution, excluding NaN values\n",
    "train_stats = train_dataset.describe()\n",
    "train_stats.pop(0)\n",
    "train_stats.pop(1)\n",
    "train_stats = train_stats.transpose()"
   ]
  },
  {
   "cell_type": "code",
   "execution_count": 7,
   "metadata": {},
   "outputs": [],
   "source": [
    "# Split features from labels\n",
    "train_labels = train_dataset.pop(1)\n",
    "test_labels = test_dataset.pop(1)\n",
    "# Get rid of the ids - they are not relevant for classification\n",
    "train_dataset.pop(0)\n",
    "test_dataset.pop(0)\n",
    "# Make sure the labels are treated as 2d arrays that can be fed into placeholder for Y\n",
    "# Transpose to keep the 'vertical' shape\n",
    "train_labels = np.transpose(np.atleast_2d(train_labels))\n",
    "test_labels = np.transpose(np.atleast_2d(test_labels))"
   ]
  },
  {
   "cell_type": "code",
   "execution_count": 8,
   "metadata": {},
   "outputs": [],
   "source": [
    "# Normalize the data using mean and standard deviation - intentionally use stats\n",
    "# from only the training set, these statistics will aslo be used for evaluation.\n",
    "# This is so that the model doesn't have any information about the test set.\n",
    "def norm(x):\n",
    "    return (x - train_stats['mean']) / train_stats['std']\n",
    "normed_train_data = norm(train_dataset)\n",
    "normed_test_data = norm(test_dataset)"
   ]
  },
  {
   "cell_type": "code",
   "execution_count": 9,
   "metadata": {},
   "outputs": [],
   "source": [
    "# Insert a column with constant value for the constant parameter in classification\n",
    "normed_train_data.insert(0, column='CONST', value=1)\n",
    "normed_test_data.insert(0, column='CONST', value=1)"
   ]
  },
  {
   "cell_type": "code",
   "execution_count": 10,
   "metadata": {},
   "outputs": [
    {
     "data": {
      "text/plain": [
       "(455, 31)"
      ]
     },
     "execution_count": 10,
     "metadata": {},
     "output_type": "execute_result"
    }
   ],
   "source": [
    "n_dim = normed_train_data.shape\n",
    "n_dim"
   ]
  },
  {
   "cell_type": "code",
   "execution_count": 55,
   "metadata": {},
   "outputs": [],
   "source": [
    "# Parameters \n",
    "learning_rate = 0.0001\n",
    "training_epochs = 1000\n",
    "cost_history = np.empty(shape=[1], dtype=float)\n",
    "epsilon = 10e-6\n",
    "# Graph input and model weights\n",
    "X = tf.placeholder(tf.float32, [None, n_dim[1]])\n",
    "Y = tf.placeholder(tf.float32, [None, 1])\n",
    "W = tf.Variable(tf.ones([n_dim[1] ,1]))\n",
    "\n",
    "init = tf.global_variables_initializer()"
   ]
  },
  {
   "cell_type": "code",
   "execution_count": 66,
   "metadata": {},
   "outputs": [],
   "source": [
    "# Multiply features matrix to weights matrix and can be used for prediction\n",
    "y_ = tf.nn.sigmoid(tf.matmul(X, W))\n",
    "# Minimize error using cross entropy\n",
    "cost = tf.reduce_mean(tf.nn.sigmoid_cross_entropy_with_logits(logits=y_, labels=Y))\n",
    "# Perform one step of gradient descent optimisation to minimise the cost fucntion\n",
    "training_step = tf.train.GradientDescentOptimizer(learning_rate).minimize(cost)"
   ]
  },
  {
   "cell_type": "code",
   "execution_count": 67,
   "metadata": {},
   "outputs": [],
   "source": [
    "# Training of the linear regression model\n",
    "sess = tf.Session()\n",
    "sess.run(init)\n",
    "\n",
    "for epoch in range(training_epochs):\n",
    "    sess.run(training_step, feed_dict={X:normed_train_data,Y:train_labels})\n",
    "    cost_history = np.append(cost_history,sess.run(cost,feed_dict={X:normed_train_data,Y:train_labels}))"
   ]
  },
  {
   "cell_type": "code",
   "execution_count": 68,
   "metadata": {},
   "outputs": [
    {
     "name": "stdout",
     "output_type": "stream",
     "text": [
      "[4.         0.61762387 0.61762381 0.61762381 0.61762381 0.61762369\n",
      " 0.61762369 0.61762363 0.61762351 0.61762351]\n"
     ]
    },
    {
     "data": {
      "image/png": "[encoded data removed]",
      "text/plain": [
       "<Figure size 432x288 with 1 Axes>"
      ]
     },
     "metadata": {
      "needs_background": "light"
     },
     "output_type": "display_data"
    }
   ],
   "source": [
    "plt.plot(range(len(cost_history)),cost_history)\n",
    "print(cost_history[:10])\n",
    "plt.axis([0,training_epochs,0,np.max(cost_history)])\n",
    "plt.show()"
   ]
  },
  {
   "cell_type": "code",
   "execution_count": 71,
   "metadata": {},
   "outputs": [
    {
     "name": "stdout",
     "output_type": "stream",
     "text": [
      "MSE: 0.6053\n"
     ]
    },
    {
     "data": {
      "image/png": "[encoded data removed]",
      "text/plain": [
       "<Figure size 432x288 with 1 Axes>"
      ]
     },
     "metadata": {
      "needs_background": "light"
     },
     "output_type": "display_data"
    }
   ],
   "source": [
    "pred_y = sess.run(y_, feed_dict={X:normed_test_data})\n",
    "pred_y_train = sess.run(y_, feed_dict={X:normed_train_data})\n",
    "mse = tf.reduce_mean(tf.square(pred_y[0] - test_labels))\n",
    "print(\"MSE: %.4f\" % sess.run(mse)) \n",
    "\n",
    "fig, ax = plt.subplots()\n",
    "ax.scatter(test_labels, pred_y)\n",
    "ax.plot([test_labels.min(), test_labels.max()], [test_labels.min(), test_labels.max()], 'k--', lw=3)\n",
    "ax.set_xlabel('Measured')\n",
    "ax.set_ylabel('Predicted')\n",
    "plt.show()"
   ]
  },
  {
   "cell_type": "code",
   "execution_count": 73,
   "metadata": {},
   "outputs": [
    {
     "name": "stdout",
     "output_type": "stream",
     "text": [
      "[59, 10]\n",
      "[4, 41]\n"
     ]
    }
   ],
   "source": [
    "TP = 0\n",
    "TN = 0\n",
    "FP = 0\n",
    "FN = 0\n",
    "i = 0\n",
    "for result in pred_y:\n",
    "    if result>0.5 and test_labels[i]==1:\n",
    "        TP+=1\n",
    "    if result>0.5 and test_labels[i]==0:\n",
    "        FP+=1\n",
    "    if result<0.5 and test_labels[i]==1:\n",
    "        FN+=1\n",
    "    if result<0.5 and test_labels[i]==0:\n",
    "        TN+=1\n",
    "    i+=1\n",
    "print([TN, FP])\n",
    "print([FN, TP])"
   ]
  },
  {
   "cell_type": "code",
   "execution_count": 84,
   "metadata": {},
   "outputs": [
    {
     "name": "stdout",
     "output_type": "stream",
     "text": [
      "Precision:  0.8 \n",
      "Recall:  0.91 \n",
      "F1:  0.85 \n",
      "Accuracy: 0.88\n"
     ]
    }
   ],
   "source": [
    "precision = round(TP/(TP+FP), 2)\n",
    "recall = round(TP/(TP+FN),2)\n",
    "F1 = round(2*precision*recall/(precision+recall),2)\n",
    "accuracy = round((TP+TN)/(TP+FP+FN+TN), 2)\n",
    "print('Precision: ',precision,'\\nRecall: ',recall,'\\nF1: ',F1,'\\nAccuracy:', accuracy)\n"
   ]
  }
 ],
 "metadata": {
  "kernelspec": {
   "display_name": "Python 3",
   "language": "python",
   "name": "python3"
  },
  "language_info": {
   "codemirror_mode": {
    "name": "ipython",
    "version": 3
   },
   "file_extension": ".py",
   "mimetype": "text/x-python",
   "name": "python",
   "nbconvert_exporter": "python",
   "pygments_lexer": "ipython3",
   "version": "3.5.6"
  }
 },
 "nbformat": 4,
 "nbformat_minor": 2
}
