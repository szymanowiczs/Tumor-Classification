{
 "cells": [
  {
   "cell_type": "code",
   "execution_count": 23,
   "metadata": {},
   "outputs": [
    {
     "name": "stderr",
     "output_type": "stream",
     "text": [
      "100%|█████████████████████████████████████████████████████████████████████████████████| 21/21 [00:00<00:00, 150.93it/s]\n"
     ]
    },
    {
     "name": "stdout",
     "output_type": "stream",
     "text": [
      "<class 'numpy.ndarray'>\n",
      "(100, 100)\n"
     ]
    },
    {
     "data": {
      "image/png": "[encoded data removed]",
      "text/plain": [
       "<Figure size 432x288 with 1 Axes>"
      ]
     },
     "metadata": {
      "needs_background": "light"
     },
     "output_type": "display_data"
    }
   ],
   "source": [
    "# Load images\n",
    "from PIL import Image\n",
    "import numpy as np\n",
    "import os\n",
    "from random import shuffle\n",
    "from tqdm import tqdm\n",
    "import matplotlib.pyplot as plt\n",
    "DIR_NAME = './cancer_images'\n",
    "IMG_SIZE = 100\n",
    "tumor = []\n",
    "\n",
    "# Label the pictures with the type of tumor\n",
    "tumor_labels = []\n",
    "benign_files = '92_751 92_5311 92_5292 92_5291 92_5277 92_5236 92_4964 92_4934 92_4632 92_4342'.split()\n",
    "i = 0\n",
    "for filename in benign_files:\n",
    "    benign_files[i] = filename+'.gif'\n",
    "    i+=1\n",
    "        \n",
    "for img in tqdm(os.listdir(DIR_NAME)):\n",
    "    if img in benign_files:\n",
    "        tumor_labels.append(0)\n",
    "    else:\n",
    "        tumor_labels.append(1)\n",
    "    path = os.path.join(DIR_NAME, img)\n",
    "    if \"DS_Store\" not in path:\n",
    "        img = Image.open(path)\n",
    "        img = img.convert('L')\n",
    "        img = img.resize((IMG_SIZE, IMG_SIZE), Image.ANTIALIAS)\n",
    "        tumor.append(np.array(img))\n",
    "    \n",
    "print(type(tumor[0]))\n",
    "print(tumor[0].shape)\n",
    "plt.imshow(tumor[0], cmap = 'gist_gray')\n",
    "plt.show()"
   ]
  },
  {
   "cell_type": "code",
   "execution_count": 13,
   "metadata": {},
   "outputs": [],
   "source": [
    "# Convert images to a list of darkness for each pixel\n",
    "tumor_aslist = []\n",
    "for photo in tumor:\n",
    "    tumor_aslist.append(photo.flatten())"
   ]
  },
  {
   "cell_type": "code",
   "execution_count": 31,
   "metadata": {},
   "outputs": [],
   "source": [
    "from sklearn.cluster import KMeans\n",
    "kmeans = KMeans(n_clusters=2, random_state=0).fit(tumor_aslist)\n",
    "pred = kmeans.labels_"
   ]
  },
  {
   "cell_type": "code",
   "execution_count": 33,
   "metadata": {},
   "outputs": [
    {
     "name": "stdout",
     "output_type": "stream",
     "text": [
      "[4, 5]\n",
      "[3, 8]\n"
     ]
    }
   ],
   "source": [
    "TP = 0\n",
    "TN = 0\n",
    "FP = 0\n",
    "FN = 0\n",
    "i = 0\n",
    "for result in pred:\n",
    "    if result == 1 and tumor_labels[i]==1:\n",
    "        TP+=1\n",
    "    if result == 1 and tumor_labels[i]==0:\n",
    "        FP+=1\n",
    "    if result == 0 and tumor_labels[i]==1:\n",
    "        FN+=1\n",
    "    if result == 0 and tumor_labels[i]==0:\n",
    "        TN+=1\n",
    "    i+=1\n",
    "print([TN, FP])\n",
    "print([FN, TP])"
   ]
  },
  {
   "cell_type": "code",
   "execution_count": 34,
   "metadata": {},
   "outputs": [
    {
     "name": "stdout",
     "output_type": "stream",
     "text": [
      "Precision:  0.62 \n",
      "Recall:  0.73 \n",
      "F1:  0.67 \n",
      "Accuracy: 0.6\n"
     ]
    }
   ],
   "source": [
    "precision = round(TP/(TP+FP), 2)\n",
    "recall = round(TP/(TP+FN),2)\n",
    "F1 = round(2*precision*recall/(precision+recall),2)\n",
    "accuracy = round((TP+TN)/(TP+FP+FN+TN), 2)\n",
    "print('Precision: ',precision,'\\nRecall: ',recall,'\\nF1: ',F1,'\\nAccuracy:', accuracy)"
   ]
  },
  {
   "cell_type": "code",
   "execution_count": null,
   "metadata": {},
   "outputs": [],
   "source": []
  }
 ],
 "metadata": {
  "kernelspec": {
   "display_name": "Python 3",
   "language": "python",
   "name": "python3"
  },
  "language_info": {
   "codemirror_mode": {
    "name": "ipython",
    "version": 3
   },
   "file_extension": ".py",
   "mimetype": "text/x-python",
   "name": "python",
   "nbconvert_exporter": "python",
   "pygments_lexer": "ipython3",
   "version": "3.5.6"
  }
 },
 "nbformat": 4,
 "nbformat_minor": 2
}
